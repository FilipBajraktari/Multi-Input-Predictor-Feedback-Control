{
 "cells": [
  {
   "cell_type": "code",
   "execution_count": 1,
   "id": "a8d2cfb0",
   "metadata": {},
   "outputs": [
    {
     "name": "stderr",
     "output_type": "stream",
     "text": [
      "Using backend: pytorch\n",
      "Other supported backends: tensorflow.compat.v1, tensorflow, jax, paddle.\n",
      "paddle supports more examples now and is recommended.\n"
     ]
    }
   ],
   "source": [
    "import os\n",
    "import time\n",
    "from pathlib import Path\n",
    "\n",
    "import numpy as np\n",
    "import tomli\n",
    "from generate_data import sample_init_state\n",
    "\n",
    "from models import ModelConfig, get_model_class\n",
    "from system import SimulationConfig, simulate_system\n",
    "from unicycle import Unicycle\n",
    "\n",
    "base_path = Path(os.getcwd()).parent"
   ]
  },
  {
   "cell_type": "markdown",
   "id": "17191023",
   "metadata": {},
   "source": [
    "Params"
   ]
  },
  {
   "cell_type": "code",
   "execution_count": 2,
   "id": "454df68e",
   "metadata": {},
   "outputs": [],
   "source": [
    "config = 'configs/config.toml'\n",
    "abs_config_path = (base_path / config).resolve()\n",
    "with open(abs_config_path, 'rb') as f:\n",
    "    data = tomli.load(f)\n",
    "    simulation_cfg = SimulationConfig(**data['simulation'])"
   ]
  },
  {
   "cell_type": "markdown",
   "id": "19835b14",
   "metadata": {},
   "source": [
    "Evaluation of computation time for single prediction"
   ]
  },
  {
   "cell_type": "code",
   "execution_count": 3,
   "id": "d9361993",
   "metadata": {},
   "outputs": [
    {
     "name": "stdout",
     "output_type": "stream",
     "text": [
      "RAW CALCULATION TIMES (ms)\n",
      "      Step size      0.0100      0.0050      0.0010      0.0005\n",
      "---------------------------------------------------------------\n",
      "      Numerical      0.3817      0.7528      3.8328      7.6564\n",
      "            FNO      3.9267      3.9208      4.2176      4.0275\n",
      "       DeepONet      1.0821      1.0492      1.5489      3.8348\n"
     ]
    }
   ],
   "source": [
    "model_names = ['Numerical', 'FNO', 'DeepONet']\n",
    "time_steps = [0.01, 0.005, 0.001, 0.0005]\n",
    "\n",
    "perf_table = np.zeros((len(model_names), len(time_steps)))\n",
    "model_params = dict()\n",
    "\n",
    "predictor_trials = 100000\n",
    "for i, model_name in enumerate(model_names):\n",
    "    for j, time_step in enumerate(time_steps):\n",
    "        simulation_cfg.dt = time_step\n",
    "\n",
    "        # Generate random initial conditions\n",
    "        init_state = np.ones(3, dtype=np.float32)\n",
    "        init_inputs = [np.zeros(NDi, dtype=np.float32) for NDi in simulation_cfg.NDs]\n",
    "        ml_unicycle = Unicycle(init_state, init_inputs, simulation_cfg)\n",
    "        if model_name != 'Numerical':\n",
    "            ml_unicycle.ml_predictor_model = get_model_class(model_name)(\n",
    "                n_states=3,\n",
    "                m_inputs=2,\n",
    "                num_points=simulation_cfg.NDs[-1],\n",
    "                dt=simulation_cfg.dt,\n",
    "                delays=simulation_cfg.delays,\n",
    "            ).to('cuda')\n",
    "            ml_unicycle.use_only_ml_predictor()\n",
    "            model_params[model_name] = ml_unicycle.get_model_params()\n",
    "\n",
    "        # Evaluate predictor\n",
    "        start_time = time.time()\n",
    "        for k in range(predictor_trials):\n",
    "            if ml_unicycle.predict_exact:\n",
    "                ml_unicycle.predictor(t0=0)\n",
    "            if ml_unicycle.predict_ml and ml_unicycle.ml_predictor_model is not None:\n",
    "                ml_unicycle.ml_predictor()\n",
    "        end_time = time.time()\n",
    "        perf_table[i, j] = (end_time - start_time) / predictor_trials * 1000\n",
    "\n",
    "\n",
    "# Print perf table\n",
    "print(\"RAW CALCULATION TIMES (ms)\")\n",
    "\n",
    "header = f\"{'Step size':>15}\" + \"\".join([f\"{ts:>12.4f}\" for ts in time_steps])\n",
    "print(header)\n",
    "print(\"-\" * len(header))\n",
    "\n",
    "# Print each row\n",
    "for i, name in enumerate(model_names):\n",
    "    print(f\"{name:>15}\" + \"\".join([f\"{perf:12.4f}\" for perf in perf_table[i]]))"
   ]
  },
  {
   "cell_type": "markdown",
   "id": "49f01e61",
   "metadata": {},
   "source": [
    "Evaluation of computation time for trajectory"
   ]
  },
  {
   "cell_type": "code",
   "execution_count": 4,
   "id": "cc077d75",
   "metadata": {},
   "outputs": [
    {
     "name": "stderr",
     "output_type": "stream",
     "text": [
      "/home/filip/UCSD/Unicycle/src/system.py:165: RuntimeWarning: overflow encountered in cast\n",
      "  controls[i-1] = system.controller(t[i-1])\n",
      "/tmp/ipykernel_2746258/1824678377.py:47: RuntimeWarning: overflow encountered in square\n",
      "  squared_magnitudes = np.sum(states**2, axis=1)\n"
     ]
    },
    {
     "name": "stdout",
     "output_type": "stream",
     "text": [
      "PARAMETERS\n",
      "      Numerical           0           0           0\n",
      "            FNO       42147       42147       42147\n",
      "       DeepONet      358309     1405609    34667209\n",
      "\n",
      "RAW CALCULATION TIMES (sec)\n",
      "      Step size      0.0100      0.0050      0.0010\n",
      "---------------------------------------------------\n",
      "      Numerical      0.5468      1.8395     38.5755\n",
      "            FNO      3.8828      7.6460     40.8908\n",
      "       DeepONet      1.1529      2.3020     17.0408\n",
      "\n",
      "AVERAGE L2 TRAJECTORY ERROR\n",
      "      Step size      0.0100      0.0050      0.0010\n",
      "---------------------------------------------------\n",
      "      Numerical      2.0237      2.0201      2.1874\n",
      "            FNO         nan      1.9174      1.9821\n",
      "       DeepONet      2.1224      1.9711      2.0149\n"
     ]
    }
   ],
   "source": [
    "model_names = ['Numerical', 'FNO', 'DeepONet']\n",
    "time_steps = [0.01, 0.005, 0.001]\n",
    "\n",
    "perf_table = np.zeros((len(model_names), len(time_steps)))\n",
    "l2_norm_table = np.zeros((len(model_names), len(time_steps)))\n",
    "model_params = {\n",
    "    model_name: np.zeros(len(time_steps), dtype=np.int32)\n",
    "    for model_name in model_names\n",
    "}\n",
    "\n",
    "num_trajectories = 5\n",
    "for i, model_name in enumerate(model_names):\n",
    "    for j, time_step in enumerate(time_steps):\n",
    "        simulation_cfg.dt = time_step\n",
    "        \n",
    "        # Construct model config\n",
    "        model_cfg = None\n",
    "        if model_name != 'Numerical':\n",
    "            D1, D2 = simulation_cfg.delays\n",
    "            time_step_str = f'{time_step}'.split('.')[1]\n",
    "            model_path = (base_path / f'models/UnicycleConstDistinctDelays_{model_name}_{int(D1 * 100)}_{int(D2 * 100)}_dt_{time_step_str}.pth').resolve()\n",
    "            model_cfg = ModelConfig(model_name, model_path)\n",
    "\n",
    "        # Evaluate model performance\n",
    "        total_time = 0\n",
    "        total_trajectory_error = 0\n",
    "        for _ in range(num_trajectories):\n",
    "            \n",
    "            # Get new initial condition for each trajectory\n",
    "            init_state = sample_init_state()\n",
    "            init_inputs = [np.zeros(NDi, dtype=np.float32) for NDi in simulation_cfg.NDs]\n",
    "\n",
    "            # Simulation\n",
    "            ml_unicycle = Unicycle(init_state, init_inputs, simulation_cfg, model_cfg)\n",
    "            if model_cfg is not None:\n",
    "                ml_unicycle.use_only_ml_predictor()\n",
    "                model_params[model_name][j] = ml_unicycle.get_model_params()\n",
    "\n",
    "            # Computation time\n",
    "            start_time = time.time()\n",
    "            states, _, _, _ = simulate_system(ml_unicycle)\n",
    "            end_time = time.time()\n",
    "\n",
    "            total_time += (end_time - start_time)\n",
    "\n",
    "            # L2 trajectory error\n",
    "            squared_magnitudes = np.sum(states**2, axis=1)\n",
    "            total_trajectory_error += np.sqrt(np.trapezoid(squared_magnitudes, dx=time_step))\n",
    "\n",
    "        # Average\n",
    "        perf_table[i, j] = total_time / num_trajectories\n",
    "        l2_norm_table[i, j] = total_trajectory_error / num_trajectories\n",
    "\n",
    "\n",
    "# Model parameters\n",
    "print(\"PARAMETERS\")\n",
    "for name, data in model_params.items():\n",
    "    print(f\"{name:>15}\" + \"\".join([f\"{number:>12d}\" for number in data]))\n",
    "\n",
    "\n",
    "# Print perf table\n",
    "print(\"\\nRAW CALCULATION TIMES (sec)\")\n",
    "\n",
    "header = f\"{'Step size':>15}\" + \"\".join([f\"{ts:>12.4f}\" for ts in time_steps])\n",
    "print(header)\n",
    "print(\"-\" * len(header))\n",
    "\n",
    "# Print each row\n",
    "for i, name in enumerate(model_names):\n",
    "    print(f\"{name:>15}\" + \"\".join([f\"{perf:12.4f}\" for perf in perf_table[i]]))\n",
    "\n",
    "\n",
    "# Print L2 trajectory error\n",
    "print('\\nAVERAGE L2 TRAJECTORY ERROR')\n",
    "\n",
    "header = f\"{'Step size':>15}\" + \"\".join([f\"{ts:>12.4f}\" for ts in time_steps])\n",
    "print(header)\n",
    "print(\"-\" * len(header))\n",
    "\n",
    "for i, name in enumerate(model_names):\n",
    "    print(f\"{name:>15}\" + \"\".join([f\"{error:12.4f}\" for error in l2_norm_table[i]]))"
   ]
  }
 ],
 "metadata": {
  "kernelspec": {
   "display_name": ".venv",
   "language": "python",
   "name": "python3"
  },
  "language_info": {
   "codemirror_mode": {
    "name": "ipython",
    "version": 3
   },
   "file_extension": ".py",
   "mimetype": "text/x-python",
   "name": "python",
   "nbconvert_exporter": "python",
   "pygments_lexer": "ipython3",
   "version": "3.10.12"
  }
 },
 "nbformat": 4,
 "nbformat_minor": 5
}
