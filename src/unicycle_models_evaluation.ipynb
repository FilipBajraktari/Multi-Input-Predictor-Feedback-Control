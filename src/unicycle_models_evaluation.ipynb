{
 "cells": [
  {
   "cell_type": "code",
   "execution_count": null,
   "id": "a8d2cfb0",
   "metadata": {},
   "outputs": [],
   "source": [
    "import os\n",
    "import time\n",
    "from pathlib import Path\n",
    "\n",
    "import numpy as np\n",
    "import tomli\n",
    "from generate_data import sample_init_state\n",
    "\n",
    "from models import ModelConfig\n",
    "from system import SimulationConfig, simulate_system\n",
    "from unicycle import Unicycle\n",
    "\n",
    "base_path = Path(os.getcwd()).parent"
   ]
  },
  {
   "cell_type": "markdown",
   "id": "17191023",
   "metadata": {},
   "source": [
    "Params"
   ]
  },
  {
   "cell_type": "code",
   "execution_count": null,
   "id": "454df68e",
   "metadata": {},
   "outputs": [],
   "source": [
    "config = 'configs/config.toml'\n",
    "abs_config_path = (base_path / config).resolve()\n",
    "with open(abs_config_path, 'rb') as f:\n",
    "    data = tomli.load(f)\n",
    "    simulation_cfg = SimulationConfig(**data['simulation'])"
   ]
  },
  {
   "cell_type": "markdown",
   "id": "49f01e61",
   "metadata": {},
   "source": [
    "Evaluation"
   ]
  },
  {
   "cell_type": "code",
   "execution_count": null,
   "id": "cc077d75",
   "metadata": {},
   "outputs": [],
   "source": [
    "model_names = ['Numerical', 'FNO', 'DeepONet']\n",
    "time_steps = [0.01, 0.005, 0.001]\n",
    "\n",
    "perf_table = np.zeros((len(model_names), len(time_steps)))\n",
    "l2_norm_table = np.zeros((len(model_names), len(time_steps)))\n",
    "model_params = dict()\n",
    "\n",
    "num_trajectories = 1\n",
    "for i, model_name in enumerate(model_names):\n",
    "    for j, time_step in enumerate(time_steps):\n",
    "        simulation_cfg.dt = time_step\n",
    "        \n",
    "        # Construct model config\n",
    "        model_cfg = None\n",
    "        if model_name != 'Numerical':\n",
    "            D1, D2 = simulation_cfg.delays\n",
    "            time_step_str = f'{time_step}'.split('.')[1]\n",
    "            model_path = (base_path / f'models/UnicycleConstDistinctDelays_{model_name}_{int(D1 * 100)}_{int(D2 * 100)}_dt_{time_step_str}.pth').resolve()\n",
    "            model_cfg = ModelConfig(model_name, model_path)\n",
    "\n",
    "        # Evaluate model performance\n",
    "        total_time = 0\n",
    "        total_trajectory_error = 0\n",
    "        for _ in range(num_trajectories):\n",
    "            \n",
    "            # Get new initial condition for each trajectory\n",
    "            init_state = sample_init_state()\n",
    "            init_inputs = [np.zeros(NDi, dtype=np.float32) for NDi in simulation_cfg.NDs]\n",
    "\n",
    "            # Simulation\n",
    "            ml_unicycle = Unicycle(init_state, init_inputs, simulation_cfg, model_cfg)\n",
    "            if model_cfg is not None:\n",
    "                ml_unicycle.use_only_ml_predictor()\n",
    "                model_params[model_name] = ml_unicycle.get_model_params()\n",
    "\n",
    "            # Computation time\n",
    "            start_time = time.time()\n",
    "            states, _, _, _ = simulate_system(ml_unicycle)\n",
    "            end_time = time.time()\n",
    "\n",
    "            total_time += (end_time - start_time)\n",
    "\n",
    "            # L2 trajectory error\n",
    "            squared_magnitudes = np.sum(states**2, axis=1)\n",
    "            total_trajectory_error += np.sqrt(np.trapezoid(squared_magnitudes, dx=time_step))\n",
    "\n",
    "        # Average\n",
    "        perf_table[i, j] = total_time / num_trajectories\n",
    "        l2_norm_table[i, j] = total_trajectory_error / num_trajectories\n",
    "\n",
    "\n",
    "# Model parameters\n",
    "print(\"PARAMETERS\")\n",
    "for name, number in model_params.items():\n",
    "    print(f\"{name:>15}\" + f\"{number:>12d}\")\n",
    "\n",
    "\n",
    "# Print perf table\n",
    "print(\"\\nRAW CALCULATION TIMES (ms)\")\n",
    "\n",
    "header = f\"{'Step size':>15}\" + \"\".join([f\"{ts:>12.4f}\" for ts in time_steps])\n",
    "print(header)\n",
    "print(\"-\" * len(header))\n",
    "\n",
    "# Print each row\n",
    "for i, name in enumerate(model_names):\n",
    "    print(f\"{name:>15}\" + \"\".join([f\"{perf:12.4f}\" for perf in perf_table[i]]))\n",
    "\n",
    "\n",
    "# Print L2 trajectory error\n",
    "print('\\nAVERAGE L2 TRAJECTORY ERROR')\n",
    "\n",
    "header = f\"{'Step size':>15}\" + \"\".join([f\"{ts:>12.4f}\" for ts in time_steps])\n",
    "print(header)\n",
    "print(\"-\" * len(header))\n",
    "\n",
    "for i, name in enumerate(model_names):\n",
    "    print(f\"{name:>15}\" + \"\".join([f\"{error:12.4f}\" for error in l2_norm_table[i]]))"
   ]
  }
 ],
 "metadata": {
  "kernelspec": {
   "display_name": ".venv",
   "language": "python",
   "name": "python3"
  },
  "language_info": {
   "codemirror_mode": {
    "name": "ipython",
    "version": 3
   },
   "file_extension": ".py",
   "mimetype": "text/x-python",
   "name": "python",
   "nbconvert_exporter": "python",
   "pygments_lexer": "ipython3",
   "version": "3.10.12"
  }
 },
 "nbformat": 4,
 "nbformat_minor": 5
}
