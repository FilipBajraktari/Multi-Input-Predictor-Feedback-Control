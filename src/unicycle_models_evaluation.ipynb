{
 "cells": [
  {
   "cell_type": "code",
   "execution_count": 1,
   "id": "a8d2cfb0",
   "metadata": {},
   "outputs": [
    {
     "name": "stderr",
     "output_type": "stream",
     "text": [
      "Using backend: pytorch\n",
      "Other supported backends: tensorflow.compat.v1, tensorflow, jax, paddle.\n",
      "paddle supports more examples now and is recommended.\n"
     ]
    }
   ],
   "source": [
    "import os\n",
    "import time\n",
    "from pathlib import Path\n",
    "\n",
    "import numpy as np\n",
    "import tomli\n",
    "from generate_data import sample_init_state\n",
    "\n",
    "from models import get_model_class\n",
    "from unicycle import SimulationConfig, InferenceConfig, Unicycle, simulate_system\n",
    "\n",
    "base_path = Path(os.getcwd()).parent"
   ]
  },
  {
   "cell_type": "markdown",
   "id": "17191023",
   "metadata": {},
   "source": [
    "Params"
   ]
  },
  {
   "cell_type": "code",
   "execution_count": 2,
   "id": "454df68e",
   "metadata": {},
   "outputs": [],
   "source": [
    "config = 'configs/config.toml'\n",
    "abs_config_path = (base_path / config).resolve()\n",
    "with open(abs_config_path, 'rb') as f:\n",
    "    data = tomli.load(f)\n",
    "    simulation_cfg = SimulationConfig(**data['simulation'])"
   ]
  },
  {
   "cell_type": "markdown",
   "id": "19835b14",
   "metadata": {},
   "source": [
    "Evaluation of computation time for single prediction"
   ]
  },
  {
   "cell_type": "code",
   "execution_count": 3,
   "id": "d9361993",
   "metadata": {},
   "outputs": [
    {
     "name": "stdout",
     "output_type": "stream",
     "text": [
      "RAW CALCULATION TIMES (ms)\n",
      "      Step size      0.0100      0.0050      0.0010      0.0005\n",
      "---------------------------------------------------------------\n",
      "      Numerical      8.9615     18.2229    106.1784    229.0006\n",
      "            FNO     29.4117     30.8366     32.2608     33.0773\n",
      "       DeepONet      8.0931     11.6781     11.2469     23.6340\n"
     ]
    }
   ],
   "source": [
    "model_names = ['Numerical', 'FNO', 'DeepONet']\n",
    "dx_steps = [0.01, 0.005, 0.001, 0.0005]\n",
    "\n",
    "perf_table = np.zeros((len(model_names), len(dx_steps)))\n",
    "\n",
    "predictor_trials = 1000\n",
    "for i, model_name in enumerate(model_names):\n",
    "    \n",
    "    for j, dx in enumerate(dx_steps):\n",
    "\n",
    "        # Update dx\n",
    "        simulation_cfg.dx = dx\n",
    "\n",
    "        # Generate random initial conditions\n",
    "        init_state = np.ones(3, dtype=np.float32)\n",
    "        ml_unicycle = Unicycle(init_state, simulation_cfg)\n",
    "        if model_name != 'Numerical':\n",
    "\n",
    "            # Create dummy P1\n",
    "            ml_unicycle.P1 = get_model_class(model_name)(\n",
    "                n_states=3,\n",
    "                m_inputs=2,\n",
    "                num_points=simulation_cfg.NX,\n",
    "                dt=simulation_cfg.dt,\n",
    "                dx=simulation_cfg.dx,\n",
    "                delays=simulation_cfg.delays,\n",
    "            ).to('cuda')\n",
    "            ml_unicycle.P1.eval()\n",
    "\n",
    "            # Create dummy P2\n",
    "            ml_unicycle.P2 = get_model_class(model_name)(\n",
    "                n_states=3,\n",
    "                m_inputs=2,\n",
    "                num_points=simulation_cfg.NX,\n",
    "                dt=simulation_cfg.dt,\n",
    "                dx=simulation_cfg.dx,\n",
    "                delays=simulation_cfg.delays,\n",
    "            ).to('cuda')\n",
    "            ml_unicycle.P2.eval()\n",
    "\n",
    "            ml_unicycle.ml_predictors = [ml_unicycle.P1, ml_unicycle.P2]\n",
    "            ml_unicycle.use_only_ml_predictor()\n",
    "\n",
    "        # Evaluate predictor\n",
    "        start_time = time.time()\n",
    "        for k in range(predictor_trials):\n",
    "            if ml_unicycle.predict_exact:\n",
    "                ml_unicycle.predict()\n",
    "            if ml_unicycle.predict_ml and ml_unicycle.ml_predictors is not None:\n",
    "                ml_unicycle.ml_predict()\n",
    "        end_time = time.time()\n",
    "        perf_table[i, j] = (end_time - start_time) / predictor_trials * 1000\n",
    "\n",
    "\n",
    "# Print perf table\n",
    "print(\"RAW CALCULATION TIMES (ms)\")\n",
    "\n",
    "header = f\"{'Step size':>15}\" + \"\".join([f\"{ts:>12.4f}\" for ts in dx_steps])\n",
    "print(header)\n",
    "print(\"-\" * len(header))\n",
    "\n",
    "# Print each row\n",
    "for i, name in enumerate(model_names):\n",
    "    print(f\"{name:>15}\" + \"\".join([f\"{perf:12.4f}\" for perf in perf_table[i]]))"
   ]
  },
  {
   "cell_type": "markdown",
   "id": "49f01e61",
   "metadata": {},
   "source": [
    "Evaluation of computation time for trajectory"
   ]
  },
  {
   "cell_type": "code",
   "execution_count": 4,
   "id": "cc077d75",
   "metadata": {},
   "outputs": [
    {
     "name": "stdout",
     "output_type": "stream",
     "text": [
      "PARAMETERS\n",
      "            FNO       42211       42211\n",
      "       DeepONet     1124824     1124824\n",
      "\n",
      "AVERAGE L2 TRAJECTORY ERROR\n",
      "      Numerical      5.1311\n",
      "            FNO      5.1436\n",
      "       DeepONet      4.8737\n"
     ]
    }
   ],
   "source": [
    "model_names = ['Numerical', 'FNO', 'DeepONet']\n",
    "l2_norm_table = np.zeros(len(model_names))\n",
    "model_params = dict()\n",
    "\n",
    "num_trajectories = 5\n",
    "for i, model_name in enumerate(model_names):\n",
    "    \n",
    "    # Construct model config\n",
    "    inference_cfg = None\n",
    "    if model_name != 'Numerical':\n",
    "        D1, D2 = simulation_cfg.delays\n",
    "        dx_str = f'{simulation_cfg.dx}'.split('.')[1]\n",
    "        P1 = (base_path / f'models/Unicycle_delays_{int(D1 * 100)}_{int(D2 * 100)}_dx_{dx_str}_{model_name}_P1.pth').resolve()\n",
    "        P2 = (base_path / f'models/Unicycle_delays_{int(D1 * 100)}_{int(D2 * 100)}_dx_{dx_str}_{model_name}_P2.pth').resolve()\n",
    "        inference_cfg = InferenceConfig(model_name, P1, P2)\n",
    "\n",
    "    # Evaluate model performance\n",
    "    total_time = 0\n",
    "    total_trajectory_error = 0\n",
    "    for _ in range(num_trajectories):\n",
    "\n",
    "        # Simulation\n",
    "        init_state = sample_init_state()\n",
    "        ml_unicycle = Unicycle(init_state, simulation_cfg, inference_cfg)\n",
    "        if inference_cfg is not None:\n",
    "            ml_unicycle.use_only_ml_predictor()\n",
    "            model_params[model_name] = ml_unicycle.get_model_params()\n",
    "\n",
    "        # Computation time\n",
    "        states, _, _, _, _ = simulate_system(ml_unicycle)\n",
    "\n",
    "        # L2 trajectory error\n",
    "        squared_magnitudes = np.sum(states**2, axis=1)\n",
    "        total_trajectory_error += np.sqrt(np.trapezoid(squared_magnitudes, dx=simulation_cfg.dx))\n",
    "\n",
    "    # Average\n",
    "    l2_norm_table[i] = total_trajectory_error / num_trajectories\n",
    "\n",
    "\n",
    "# Model parameters\n",
    "print(\"PARAMETERS\")\n",
    "for name, data in model_params.items():\n",
    "    print(f\"{name:>15}\" + \"\".join([f\"{number:>12d}\" for number in data]))\n",
    "\n",
    "\n",
    "# Print L2 trajectory error\n",
    "print('\\nAVERAGE L2 TRAJECTORY ERROR')\n",
    "\n",
    "for i, name in enumerate(model_names):\n",
    "    print(f\"{name:>15}\" + f\"{l2_norm_table[i]:12.4f}\")"
   ]
  }
 ],
 "metadata": {
  "kernelspec": {
   "display_name": "Unicycle (3.10.12)",
   "language": "python",
   "name": "python3"
  },
  "language_info": {
   "codemirror_mode": {
    "name": "ipython",
    "version": 3
   },
   "file_extension": ".py",
   "mimetype": "text/x-python",
   "name": "python",
   "nbconvert_exporter": "python",
   "pygments_lexer": "ipython3",
   "version": "3.10.12"
  }
 },
 "nbformat": 4,
 "nbformat_minor": 5
}
